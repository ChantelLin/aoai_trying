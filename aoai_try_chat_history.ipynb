{
 "cells": [
  {
   "cell_type": "code",
   "execution_count": 1,
   "metadata": {},
   "outputs": [],
   "source": [
    "# chat with AzureOpenAI and save chat history\n",
    "\n",
    "import os\n",
    "from openai import AzureOpenAI\n"
   ]
  },
  {
   "cell_type": "code",
   "execution_count": 4,
   "metadata": {},
   "outputs": [],
   "source": [
    "\n",
    "client = AzureOpenAI(\n",
    "  azure_endpoint = \"https://azure-openai-test-s100.openai.azure.com/\", \n",
    "  api_key=\"6cb5bfda3d7241dfb35c518668a4c099\", #\"s.getenv(\"AZURE_OPENAI_KEY\"),  \n",
    "  api_version=\"2024-02-15-preview\"\n",
    ")\n",
    "\n",
    "\n",
    "message_text = [\n",
    "    {\"role\":\"system\",\"content\":\"You are an AI assistant that helps people find information.\"}\n",
    "#     {\"role\":\"user\",\"content\":\"what is EDA?\"}\n",
    "    ]\n",
    "\n",
    "chat_model = \"gpt-35-turbo-16k\"\n"
   ]
  },
  {
   "cell_type": "code",
   "execution_count": 7,
   "metadata": {},
   "outputs": [],
   "source": [
    "def chat_auto_update(new_request, chat_history, model=chat_model):\n",
    "    chat_history.append({\"role\":\"user\", \"content\":new_request})\n",
    "    answer = client.chat.completions.create(\n",
    "      model=chat_model, # model = \"deployment_name\"\n",
    "      messages = chat_history,\n",
    "      temperature=0.7,\n",
    "      max_tokens=800,\n",
    "      top_p=0.95,\n",
    "      frequency_penalty=0,\n",
    "      presence_penalty=0,\n",
    "      stop=None)\n",
    "    print(answer.choices[0].message) # gpt response\n",
    "    \n",
    "    chat_history.append(answer.choices[0].message)\n",
    "    return chat_history"
   ]
  },
  {
   "cell_type": "code",
   "execution_count": 8,
   "metadata": {},
   "outputs": [
    {
     "name": "stdout",
     "output_type": "stream",
     "text": [
      "ChatCompletionMessage(content='EDA stands for Exploratory Data Analysis. It is a process used in data science and statistics to analyze and summarize data sets. EDA involves various techniques and visualizations to understand the main characteristics, patterns, and relationships within the data. It helps to identify any missing values, outliers, or anomalies in the data, as well as uncover trends or insights that can guide further analysis or decision-making. EDA is an important step in the data analysis process and often serves as a precursor to more advanced modeling or statistical techniques.', role='assistant', function_call=None, tool_calls=None)\n"
     ]
    }
   ],
   "source": [
    "msg_history = chat_auto_update(\"what is EDA\", message_text)"
   ]
  },
  {
   "cell_type": "code",
   "execution_count": 10,
   "metadata": {},
   "outputs": [
    {
     "name": "stdout",
     "output_type": "stream",
     "text": [
      "ChatCompletionMessage(content='EDA typically includes the following steps:\\n\\n1. Data collection: Gather the necessary data from various sources, such as databases, files, or APIs.\\n\\n2. Data cleaning: Preprocess the data to handle missing values, outliers, inconsistencies, or errors. This step may involve imputing missing values, removing duplicates, correcting errors, or standardizing formats.\\n\\n3. Data exploration: Explore the data to understand its characteristics, patterns, and relationships. This can involve computing summary statistics, examining data distributions, and identifying any outliers or anomalies.\\n\\n4. Data visualization: Create visual representations of the data using graphs, charts, or plots. Visualization helps to better understand the data, identify patterns, and communicate findings effectively.\\n\\n5. Feature engineering: Transform or create new features from the existing data that may enhance the analysis. This can involve feature scaling, encoding categorical variables, or deriving new variables based on domain knowledge.\\n\\n6. Statistical analysis: Apply statistical techniques to analyze relationships, dependencies, or differences between variables. This can include hypothesis testing, correlation analysis, or regression analysis.\\n\\n7. Iterative analysis: Iterate through the previous steps to refine the analysis, explore different angles, and investigate specific questions or hypotheses.\\n\\nThroughout the EDA process, it is important to document findings, make notes, and communicate insights effectively to support further analysis or decision-making. EDA helps in understanding the data, identifying patterns, and informing subsequent modeling or statistical techniques.', role='assistant', function_call=None, tool_calls=None)\n"
     ]
    }
   ],
   "source": [
    "msg_history = chat_auto_update(\"what steps does EDA include?\", msg_history)"
   ]
  },
  {
   "cell_type": "code",
   "execution_count": 11,
   "metadata": {},
   "outputs": [
    {
     "name": "stdout",
     "output_type": "stream",
     "text": [
      "ChatCompletionMessage(content='The steps involved in EDA (Exploratory Data Analysis) can be summarized as follows:\\n\\n1. Data collection: Gather the required data from different sources.\\n2. Data cleaning: Preprocess the data by handling missing values, outliers, inconsistencies, and errors.\\n3. Data exploration: Analyze the data to understand its characteristics, patterns, and relationships.\\n4. Data visualization: Create visual representations of the data to gain insights and communicate findings effectively.\\n5. Feature engineering: Transform or create new features from the existing data to enhance the analysis.\\n6. Statistical analysis: Apply statistical techniques to explore relationships, dependencies, or differences between variables.\\n7. Iterative analysis: Iterate through the previous steps to refine the analysis and investigate specific questions or hypotheses.\\n\\nThrough EDA, data analysts and scientists can gain a deeper understanding of the data, identify patterns, detect anomalies, and make informed decisions for further analysis or modeling.', role='assistant', function_call=None, tool_calls=None)\n"
     ]
    }
   ],
   "source": [
    "msg_history = chat_auto_update(\"please summary above steps\", msg_history)"
   ]
  },
  {
   "cell_type": "code",
   "execution_count": 12,
   "metadata": {},
   "outputs": [
    {
     "name": "stdout",
     "output_type": "stream",
     "text": [
      "ChatCompletionMessage(content='Sure! Here is a summary of each step in EDA in one sentence:\\n\\n1. Data collection: Gather the necessary data from various sources.\\n2. Data cleaning: Preprocess the data by handling missing values, outliers, inconsistencies, and errors.\\n3. Data exploration: Analyze the data to understand its characteristics, patterns, and relationships.\\n4. Data visualization: Create visual representations of the data to gain insights and communicate findings effectively.\\n5. Feature engineering: Transform or create new features from the existing data to enhance the analysis.\\n6. Statistical analysis: Apply statistical techniques to explore relationships, dependencies, or differences between variables.\\n7. Iterative analysis: Iterate through the previous steps to refine the analysis and investigate specific questions or hypotheses.', role='assistant', function_call=None, tool_calls=None)\n"
     ]
    }
   ],
   "source": [
    "msg_history = chat_auto_update(\"please summary each steps by one sentence\", msg_history)"
   ]
  },
  {
   "cell_type": "code",
   "execution_count": 13,
   "metadata": {},
   "outputs": [
    {
     "name": "stdout",
     "output_type": "stream",
     "text": [
      "ChatCompletionMessage(content='{\\n  \"Data collection\": \"Gather the necessary data from various sources.\",\\n  \"Data cleaning\": \"Preprocess the data by handling missing values, outliers, inconsistencies, and errors.\",\\n  \"Data exploration\": \"Analyze the data to understand its characteristics, patterns, and relationships.\",\\n  \"Data visualization\": \"Create visual representations of the data to gain insights and communicate findings effectively.\",\\n  \"Feature engineering\": \"Transform or create new features from the existing data to enhance the analysis.\",\\n  \"Statistical analysis\": \"Apply statistical techniques to explore relationships, dependencies, or differences between variables.\",\\n  \"Iterative analysis\": \"Iterate through the previous steps to refine the analysis and investigate specific questions or hypotheses.\"\\n}', role='assistant', function_call=None, tool_calls=None)\n"
     ]
    }
   ],
   "source": [
    "msg_history = chat_auto_update(\"please output above result with json format\", msg_history)"
   ]
  },
  {
   "cell_type": "code",
   "execution_count": null,
   "metadata": {},
   "outputs": [],
   "source": [
    "msg_history = chat_auto_update(\"please save above json data to a file\", msg_history)"
   ]
  },
  {
   "cell_type": "code",
   "execution_count": null,
   "metadata": {},
   "outputs": [],
   "source": []
  }
 ],
 "metadata": {
  "kernelspec": {
   "display_name": "Python 3 (ipykernel)",
   "language": "python",
   "name": "python3"
  },
  "language_info": {
   "codemirror_mode": {
    "name": "ipython",
    "version": 3
   },
   "file_extension": ".py",
   "mimetype": "text/x-python",
   "name": "python",
   "nbconvert_exporter": "python",
   "pygments_lexer": "ipython3",
   "version": "3.9.6"
  }
 },
 "nbformat": 4,
 "nbformat_minor": 4
}
