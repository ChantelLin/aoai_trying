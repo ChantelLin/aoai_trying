{
 "cells": [
  {
   "cell_type": "code",
   "execution_count": 1,
   "metadata": {},
   "outputs": [],
   "source": [
    "# chat with AzureOpenAI and save chat history\n",
    "\n",
    "import os\n",
    "from openai import AzureOpenAI\n",
    "\n",
    "%run env_config_setting.ipynb\n",
    "\n",
    "deploy_name = \"gpt-35-turbo-16k\"\n",
    "\n",
    "api_key = openai.api_key\n",
    "api_base = openai.api_base\n",
    "api_version = openai.api_version\n"
   ]
  },
  {
   "cell_type": "code",
   "execution_count": 2,
   "metadata": {},
   "outputs": [],
   "source": [
    "\n",
    "client = AzureOpenAI(\n",
    "  azure_endpoint = api_base,\n",
    "  api_key=api_key,\n",
    "  api_version=api_version\n",
    ")\n",
    "\n",
    "message_text = [\n",
    "    {\"role\":\"system\",\"content\":\"You are an AI assistant that helps people find information.\"}\n",
    "#     {\"role\":\"user\",\"content\":\"what is EDA?\"}\n",
    "    ]"
   ]
  },
  {
   "cell_type": "code",
   "execution_count": 6,
   "metadata": {},
   "outputs": [],
   "source": [
    "def chat_auto_update(new_request, chat_history, model=deploy_name):\n",
    "    chat_history.append({\"role\":\"user\", \"content\":new_request})\n",
    "    answer = client.chat.completions.create(\n",
    "      model=model,\n",
    "      messages = chat_history,\n",
    "      temperature=0.7,\n",
    "      max_tokens=800,\n",
    "      top_p=0.95,\n",
    "      frequency_penalty=0,\n",
    "      presence_penalty=0,\n",
    "      stop=None)\n",
    "    print(answer.choices[0].message) # gpt response\n",
    "    \n",
    "    chat_history.append(answer.choices[0].message)\n",
    "    return chat_history"
   ]
  },
  {
   "cell_type": "code",
   "execution_count": 7,
   "metadata": {},
   "outputs": [
    {
     "name": "stdout",
     "output_type": "stream",
     "text": [
      "ChatCompletionMessage(content='EDA stands for Exploratory Data Analysis. It is the process of analyzing and visualizing data in order to discover patterns, relationships, and insights. EDA involves techniques and tools for summarizing and visualizing data, such as statistical measures, plots, and graphs. It is often the first step in the data analysis process and helps to understand the data, identify outliers, missing values, and potential problems, and formulate hypotheses for further investigation. EDA is widely used in various fields, including data science, statistics, and business analytics.', role='assistant', function_call=None, tool_calls=None)\n"
     ]
    }
   ],
   "source": [
    "msg_history = chat_auto_update(\"what is EDA\", message_text)"
   ]
  },
  {
   "cell_type": "code",
   "execution_count": 8,
   "metadata": {},
   "outputs": [
    {
     "name": "stdout",
     "output_type": "stream",
     "text": [
      "ChatCompletionMessage(content='EDA typically involves the following steps:\\n\\n1. Data collection: Gather the relevant dataset from various sources, such as databases, spreadsheets, or APIs.\\n\\n2. Data cleaning: Clean the data by handling missing values, removing duplicates, and addressing inconsistencies or errors in the dataset.\\n\\n3. Data exploration: Explore the dataset by examining the structure, size, and basic statistics of the data. This includes checking the data types, summary statistics, and distribution of variables.\\n\\n4. Data visualization: Use visualizations like histograms, scatter plots, box plots, and bar charts to gain insights and identify patterns in the data. Visualizations help in understanding the relationships between variables and detecting outliers or anomalies.\\n\\n5. Feature engineering: Create new features or transform existing ones to enhance the predictive power of the dataset. This may involve techniques like scaling, encoding categorical variables, or creating interaction terms.\\n\\n6. Statistical analysis: Apply statistical methods to uncover relationships, correlations, and trends in the data. This can involve measures like correlation coefficients, hypothesis testing, or regression analysis.\\n\\n7. Iterative exploration: Repeat the previous steps as necessary to gain a deeper understanding of the data, refine hypotheses, and generate new insights.\\n\\nThe goal of EDA is to gain a comprehensive understanding of the dataset before applying more advanced modeling or analysis techniques. It helps in identifying patterns, anomalies, and potential issues that can guide further analysis or decision-making.', role='assistant', function_call=None, tool_calls=None)\n"
     ]
    }
   ],
   "source": [
    "msg_history = chat_auto_update(\"what steps does EDA include?\", msg_history)"
   ]
  },
  {
   "cell_type": "code",
   "execution_count": 9,
   "metadata": {},
   "outputs": [
    {
     "name": "stdout",
     "output_type": "stream",
     "text": [
      "ChatCompletionMessage(content=\"Exploratory Data Analysis (EDA) is a process that involves collecting, cleaning, exploring, and visualizing data to uncover patterns, relationships, and insights. It begins with gathering the relevant dataset and cleaning it by handling missing values, duplicates, and inconsistencies. The next step is to explore the dataset by examining its structure, size, and basic statistics. Visualizations like histograms, scatter plots, and box plots are used to gain insights and identify patterns. Feature engineering techniques may be applied to enhance the dataset's predictive power. Statistical analysis is then performed to uncover relationships, correlations, and trends in the data. The process is iterative, allowing for a deeper understanding of the data and the generation of new insights. The goal of EDA is to gain a comprehensive understanding of the dataset before applying more advanced analysis techniques. It helps in identifying patterns, anomalies, and potential issues that can guide further analysis or decision-making.\", role='assistant', function_call=None, tool_calls=None)\n"
     ]
    }
   ],
   "source": [
    "msg_history = chat_auto_update(\"please give me a summary based on above description\", msg_history)"
   ]
  },
  {
   "cell_type": "code",
   "execution_count": 10,
   "metadata": {},
   "outputs": [
    {
     "name": "stdout",
     "output_type": "stream",
     "text": [
      "ChatCompletionMessage(content='1. Data collection: Gather relevant data from various sources.\\n2. Data cleaning: Handle missing values, duplicates, and inconsistencies in the dataset.\\n3. Data exploration: Examine the structure, size, and basic statistics of the data.\\n4. Data visualization: Use visualizations to gain insights and identify patterns in the data.\\n5. Feature engineering: Create new features or transform existing ones to enhance the predictive power of the dataset.\\n6. Statistical analysis: Apply statistical methods to uncover relationships, correlations, and trends in the data.\\n7. Iterative exploration: Repeat previous steps to gain a deeper understanding and generate new insights.', role='assistant', function_call=None, tool_calls=None)\n"
     ]
    }
   ],
   "source": [
    "msg_history = chat_auto_update(\"please summary each steps by one sentence\", msg_history)"
   ]
  },
  {
   "cell_type": "code",
   "execution_count": 11,
   "metadata": {},
   "outputs": [
    {
     "name": "stdout",
     "output_type": "stream",
     "text": [
      "ChatCompletionMessage(content='{\\n  \"steps\": [\\n    \"Data collection: Gather relevant data from various sources.\",\\n    \"Data cleaning: Handle missing values, duplicates, and inconsistencies in the dataset.\",\\n    \"Data exploration: Examine the structure, size, and basic statistics of the data.\",\\n    \"Data visualization: Use visualizations to gain insights and identify patterns in the data.\",\\n    \"Feature engineering: Create new features or transform existing ones to enhance the predictive power of the dataset.\",\\n    \"Statistical analysis: Apply statistical methods to uncover relationships, correlations, and trends in the data.\",\\n    \"Iterative exploration: Repeat previous steps to gain a deeper understanding and generate new insights.\"\\n  ]\\n}', role='assistant', function_call=None, tool_calls=None)\n"
     ]
    }
   ],
   "source": [
    "msg_history = chat_auto_update(\"please output above result with json format\", msg_history)"
   ]
  },
  {
   "cell_type": "code",
   "execution_count": 12,
   "metadata": {},
   "outputs": [
    {
     "name": "stdout",
     "output_type": "stream",
     "text": [
      "ChatCompletionMessage(content='Certainly! Here\\'s an example of how you can save the JSON data to a file using Python:\\n\\n```python\\nimport json\\n\\ndata = {\\n  \"steps\": [\\n    \"Data collection: Gather relevant data from various sources.\",\\n    \"Data cleaning: Handle missing values, duplicates, and inconsistencies in the dataset.\",\\n    \"Data exploration: Examine the structure, size, and basic statistics of the data.\",\\n    \"Data visualization: Use visualizations to gain insights and identify patterns in the data.\",\\n    \"Feature engineering: Create new features or transform existing ones to enhance the predictive power of the dataset.\",\\n    \"Statistical analysis: Apply statistical methods to uncover relationships, correlations, and trends in the data.\",\\n    \"Iterative exploration: Repeat previous steps to gain a deeper understanding and generate new insights.\"\\n  ]\\n}\\n\\n# Save the data to a JSON file\\nwith open(\\'eda_steps.json\\', \\'w\\') as file:\\n    json.dump(data, file)\\n```\\n\\nThis code will save the JSON data to a file named \\'eda_steps.json\\' in the current directory.', role='assistant', function_call=None, tool_calls=None)\n"
     ]
    }
   ],
   "source": [
    "msg_history = chat_auto_update(\"please save above json data to a file\", msg_history)"
   ]
  }
 ],
 "metadata": {
  "kernelspec": {
   "display_name": "Python 3 (ipykernel)",
   "language": "python",
   "name": "python3"
  },
  "language_info": {
   "codemirror_mode": {
    "name": "ipython",
    "version": 3
   },
   "file_extension": ".py",
   "mimetype": "text/x-python",
   "name": "python",
   "nbconvert_exporter": "python",
   "pygments_lexer": "ipython3",
   "version": "3.9.6"
  }
 },
 "nbformat": 4,
 "nbformat_minor": 4
}
