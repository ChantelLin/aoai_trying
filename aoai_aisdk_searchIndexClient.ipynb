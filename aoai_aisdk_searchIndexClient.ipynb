{
 "cells": [
  {
   "cell_type": "code",
   "execution_count": 1,
   "id": "ad0878b5",
   "metadata": {},
   "outputs": [
    {
     "data": {
      "text/plain": [
       "True"
      ]
     },
     "execution_count": 1,
     "metadata": {},
     "output_type": "execute_result"
    }
   ],
   "source": [
    "# set environment variables before importing any other code (in particular the openai module)\n",
    "import os\n",
    "from dotenv import load_dotenv\n",
    "\n",
    "env_path = './.env'\n",
    "load_dotenv(dotenv_path=env_path)"
   ]
  },
  {
   "cell_type": "code",
   "execution_count": 2,
   "id": "903cb447",
   "metadata": {},
   "outputs": [],
   "source": [
    "# searchclientIndex (add/remove data) create_or_update_index\n",
    "\n",
    "from openai import AsyncAzureOpenAI\n",
    "import jinja2\n",
    "import pathlib\n",
    "import logging\n",
    "import json\n",
    "\n",
    "from azure.core.credentials import AzureKeyCredential\n",
    "from azure.search.documents import SearchClient\n",
    "from azure.search.documents.indexes import SearchIndexClient\n",
    "from azure.search.documents.indexes.models import (\n",
    "    CorsOptions,\n",
    "    SearchIndex,\n",
    "    SearchFieldDataType\n",
    ")\n",
    "\n",
    "logger = logging.getLogger(\"test\")\n",
    "\n",
    "search_index_client = SearchIndexClient(\n",
    "    endpoint=os.environ[\"AZURE_AI_SEARCH_ENDPOINT\"],  #azure_ai_search_enpoint, #\n",
    "    credential=AzureKeyCredential(os.environ[\"AZURE_AI_SEARCH_KEY\"])) #azure_ai_search_key) #\n"
   ]
  },
  {
   "cell_type": "code",
   "execution_count": null,
   "id": "9c6646ee",
   "metadata": {},
   "outputs": [],
   "source": [
    "# example 1: create index , define columns programming"
   ]
  },
  {
   "cell_type": "code",
   "execution_count": 4,
   "id": "e8c2fef1",
   "metadata": {},
   "outputs": [
    {
     "name": "stdout",
     "output_type": "stream",
     "text": [
      "{'additional_properties': {}, 'name': 'hotels', 'fields': [<azure.search.documents.indexes.models._index.SearchField object at 0x10ba0fa40>, <azure.search.documents.indexes.models._index.SearchField object at 0x106db59d0>, <azure.search.documents.indexes.models._index.SearchField object at 0x106db4920>], 'scoring_profiles': [], 'default_scoring_profile': None, 'cors_options': <azure.search.documents.indexes._generated.models._models_py3.CorsOptions object at 0x10bb48860>, 'suggesters': [], 'analyzers': None, 'tokenizers': None, 'token_filters': [], 'char_filters': [], 'encryption_key': None, 'similarity': <azure.search.documents.indexes._generated.models._models_py3.BM25SimilarityAlgorithm object at 0x10bb48e30>, 'semantic_search': None, 'vector_search': None, 'e_tag': '\"0x8DCE82886D46B01\"'}\n"
     ]
    }
   ],
   "source": [
    "from azure.search.documents.indexes.models import (\n",
    "    SearchableField,\n",
    "    ScoringProfile,\n",
    "    SimpleField,\n",
    "    ComplexField\n",
    ")\n",
    "from typing import List\n",
    "\n",
    "\n",
    "# define columns programming\n",
    "\n",
    "name = \"hotels\"\n",
    "fields = [\n",
    "    SimpleField(name=\"hotelId\", type=SearchFieldDataType.String, key=True),\n",
    "    SimpleField(name=\"baseRate\", type=SearchFieldDataType.Double),\n",
    "    SearchableField(name=\"description\", type=SearchFieldDataType.String, collection=True),\n",
    "#     ComplexField(\n",
    "#         name=\"address\",\n",
    "#         fields=[\n",
    "#             SimpleField(name=\"streetAddress\", type=SearchFieldDataType.String),\n",
    "#             SimpleField(name=\"city\", type=SearchFieldDataType.String),\n",
    "#         ],\n",
    "#         collection=True,\n",
    "#     ),\n",
    "]\n",
    "cors_options = CorsOptions(allowed_origins=[\"*\"], max_age_in_seconds=60)\n",
    "scoring_profiles: List[ScoringProfile] = []\n",
    "index = SearchIndex(name=name, fields=fields, scoring_profiles=scoring_profiles, cors_options=cors_options)\n",
    "\n",
    "result = search_index_client.create_index(index)\n",
    "print(result)"
   ]
  },
  {
   "cell_type": "code",
   "execution_count": 5,
   "id": "c722aaef",
   "metadata": {},
   "outputs": [
    {
     "name": "stdout",
     "output_type": "stream",
     "text": [
      "{'additional_properties': {}, 'name': 'hotels', 'fields': [<azure.search.documents.indexes.models._index.SearchField object at 0x10b8143e0>, <azure.search.documents.indexes.models._index.SearchField object at 0x106dc5e20>, <azure.search.documents.indexes.models._index.SearchField object at 0x106df40b0>], 'scoring_profiles': [], 'default_scoring_profile': None, 'cors_options': <azure.search.documents.indexes._generated.models._models_py3.CorsOptions object at 0x10bb4a2d0>, 'suggesters': [], 'analyzers': None, 'tokenizers': None, 'token_filters': [], 'char_filters': [], 'encryption_key': None, 'similarity': <azure.search.documents.indexes._generated.models._models_py3.BM25SimilarityAlgorithm object at 0x10bb4a810>, 'semantic_search': None, 'vector_search': None, 'e_tag': '\"0x8DCE82886D46B01\"'}\n"
     ]
    }
   ],
   "source": [
    "result2 = search_index_client.get_index(name)\n",
    "print(result2)"
   ]
  },
  {
   "cell_type": "code",
   "execution_count": 6,
   "id": "61852324",
   "metadata": {},
   "outputs": [
    {
     "name": "stdout",
     "output_type": "stream",
     "text": [
      "Upload of new document succeeded: True\n"
     ]
    }
   ],
   "source": [
    "\n",
    "DOCUMENT = {\n",
    "    \"hotelId\": \"1000\",\n",
    "    \"baseRate\": 4.0,\n",
    "    \"description\": [\"Hotel\"],\n",
    "}\n",
    "\n",
    "search_client = SearchClient(\n",
    "    endpoint=os.environ[\"AZURE_AI_SEARCH_ENDPOINT\"],\n",
    "    credential=AzureKeyCredential(os.environ[\"AZURE_AI_SEARCH_KEY\"]),\n",
    "    index_name=\"hotels\")\n",
    "\n",
    "result = search_client.upload_documents(documents=[DOCUMENT])\n",
    "print(\"Upload of new document succeeded: {}\".format(result[0].succeeded))"
   ]
  },
  {
   "cell_type": "code",
   "execution_count": 16,
   "id": "b249fe44",
   "metadata": {},
   "outputs": [
    {
     "name": "stdout",
     "output_type": "stream",
     "text": [
      "<class 'NoneType'> None\n",
      "None\n",
      "None\n",
      "None\n",
      "close completely\n"
     ]
    }
   ],
   "source": [
    "\n",
    "# acl_type = 'azureblob' #'content' #Type of acls to manage. Valid values include groups or oids.\n",
    "#  retrieve documents relevant to the user's question from Cognitive Search\n",
    "search_client = SearchClient(\n",
    "    endpoint=os.environ[\"AZURE_AI_SEARCH_ENDPOINT\"],\n",
    "    credential=AzureKeyCredential(os.environ[\"AZURE_AI_SEARCH_KEY\"]),\n",
    "    index_name=\"pdf-index\",\n",
    "    logging_enable=True) #os.environ[\"AZURE_AI_SEARCH_INDEX_NAME\"])\n",
    "\n",
    "\n",
    "with search_client:\n",
    "    # doc = search_client.get_document(key='hotelId', selected_fields=None) #['description'])\n",
    "    # #, verbose=True)\n",
    "    # print(doc)\n",
    "    results = search_client.search(search_text=\"*\", logging_enable=True)\n",
    "\n",
    "    ans = results.get_answers()\n",
    "    print(type(ans), ans)\n",
    "\n",
    "    fts = results.get_facets()\n",
    "    print(fts)\n",
    "    cvg = results.get_coverage()\n",
    "    print(cvg)\n",
    "\n",
    "    cnt = results.get_count()\n",
    "    print(cnt)\n",
    "\n",
    "    search_client.close()\n",
    "\n",
    "    print('close completely')"
   ]
  },
  {
   "cell_type": "code",
   "execution_count": 7,
   "id": "99ddb108",
   "metadata": {},
   "outputs": [],
   "source": [
    "from azure.ai.resources.client import AIClient\n",
    "from azure.identity import DefaultAzureCredential\n",
    "\n",
    "# build the index using the product catalog docs from data/3-product-info\n",
    "# same as build index\n",
    "def build_cogsearch_index(index_name, path_to_data):\n",
    "    from azure.ai.resources.operations._index_data_source import LocalSource, ACSOutputConfig\n",
    "    from azure.ai.generative.index import build_index\n",
    "\n",
    "    # Set up environment variables for cog search SDK\n",
    "    os.environ[\"AZURE_COGNITIVE_SEARCH_TARGET\"] = os.environ[\"AZURE_AI_SEARCH_ENDPOINT\"]\n",
    "    os.environ[\"AZURE_COGNITIVE_SEARCH_KEY\"] = os.environ[\"AZURE_AI_SEARCH_KEY\"]\n",
    "\n",
    "    client = AIClient.from_config(DefaultAzureCredential())\n",
    "\n",
    "    # Use the same index name when registering the index in AI Studio\n",
    "    index = build_index(\n",
    "        output_index_name=index_name,\n",
    "        vector_store=\"azure_cognitive_search\",\n",
    "        embeddings_model=f\"azure_open_ai://deployment/{os.environ['AZURE_OPENAI_EMBEDDING_DEPLOYMENT']}/model/{os.environ['AZURE_OPENAI_EMBEDDING_MODEL']}\",\n",
    "        data_source_url=\"https://product_info.com\",\n",
    "        index_input_config=LocalSource(input_data=path_to_data),\n",
    "        acs_config=ACSOutputConfig(\n",
    "            acs_index_name=index_name,\n",
    "        ),\n",
    "    )\n",
    "\n",
    "    # register the index so that it shows up in the project\n",
    "    cloud_index = client.indexes.create_or_update(index)\n",
    "\n",
    "    print(f\"Created index '{cloud_index.name}'\")\n",
    "    print(f\"Local Path: {index.path}\")\n",
    "    print(f\"Cloud Path: {cloud_index.path}\")"
   ]
  },
  {
   "cell_type": "code",
   "execution_count": null,
   "id": "5c326d01",
   "metadata": {},
   "outputs": [],
   "source": [
    "print(os.getenv(\"AZURE_AI_SEARCH_INDEX_NAME\"))\n",
    "\n",
    "# can successfully create index \n",
    "# but fail when update data...\n",
    "# https://github.com/Azure/aistudio-copilot-sample/blob/836436801a48d14c33efca212d6c7b1bfcf3b0c4/src/run.py#L32\n",
    "\n",
    "# not try yet \n",
    "# build_cogsearch_index(\"customer_info\" , \"./data/1-customer-info\")"
   ]
  }
 ],
 "metadata": {
  "kernelspec": {
   "display_name": "Python 3 (ipykernel)",
   "language": "python",
   "name": "python3"
  },
  "language_info": {
   "codemirror_mode": {
    "name": "ipython",
    "version": 3
   },
   "file_extension": ".py",
   "mimetype": "text/x-python",
   "name": "python",
   "nbconvert_exporter": "python",
   "pygments_lexer": "ipython3",
   "version": "3.12.4"
  }
 },
 "nbformat": 4,
 "nbformat_minor": 5
}
