{
 "cells": [
  {
   "cell_type": "code",
   "execution_count": 1,
   "id": "3150ef4b",
   "metadata": {},
   "outputs": [],
   "source": [
    "#save config in yml file\n",
    "import os\n",
    "import yaml\n",
    "import openai\n",
    "\n",
    "config = yaml.safe_load(open(\"aoai_config.yml\"))\n",
    "\n",
    "os.environ[\"OPENAI_API_KEY\"] = config[\"OPENAI_API_KEY\"]\n",
    "\n",
    "# Configure Azure OpenAI Service API\n",
    "openai.api_type = config[\"OPENAI_API_TYPE\"]\n",
    "openai.api_version = config[\"OPENAI_API_VERSION\"]\n",
    "openai.api_base = config[\"OPENAI_API_ENDPOINT\"]\n",
    "openai.api_key = config[\"OPENAI_API_KEY\"]\n",
    "\n",
    "deployment_name = config[\"OPENAI_DEPLOY_NAME\"]\n",
    "embedding_name = config[\"OPENAI_EMBEDDING_NAME\"]\n",
    "\n",
    "search_service_name = config[\"OPENAI_SEARCH_NAME\"]\n",
    "search_key = config[\"OPENAI_SEARCH_KEY\"]\n",
    "search_endpoint = config[\"OPENAI_SEARCH_ENDPOINT\"]\n",
    "\n",
    "storageaccnt = config[\"OPENAI_SEARCH_ENDPOINT\"] "
   ]
  }
 ],
 "metadata": {
  "kernelspec": {
   "display_name": "Python 3 (ipykernel)",
   "language": "python",
   "name": "python3"
  },
  "language_info": {
   "codemirror_mode": {
    "name": "ipython",
    "version": 3
   },
   "file_extension": ".py",
   "mimetype": "text/x-python",
   "name": "python",
   "nbconvert_exporter": "python",
   "pygments_lexer": "ipython3",
   "version": "3.12.4"
  }
 },
 "nbformat": 4,
 "nbformat_minor": 5
}
