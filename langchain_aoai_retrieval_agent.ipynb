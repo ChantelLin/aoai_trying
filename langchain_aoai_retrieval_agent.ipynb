{
 "cells": [
  {
   "cell_type": "code",
   "execution_count": null,
   "id": "c989c5d2",
   "metadata": {},
   "outputs": [],
   "source": [
    "from langchain.text_splitter import RecursiveCharacterTextSplitter\n",
    "from langchain_community.document_loaders import WebBaseLoader\n",
    "from langchain.vectorstores import Chroma\n",
    "from langchain_openai import OpenAIEmbeddings\n",
    "from langchain.tools.retriever import create_retriever_tool\n",
    "\n",
    "# download data from browser\n",
    "loader = WebBaseLoader(\"https://neurons-lab.com/\")\n",
    "docs = loader.load()\n",
    "\n",
    "documents = RecursiveCharacterTextSplitter(\n",
    "    chunk_size=500, chunk_overlap=100\n",
    ").split_documents(docs)\n"
   ]
  },
  {
   "cell_type": "code",
   "execution_count": null,
   "id": "afd5397f",
   "metadata": {},
   "outputs": [],
   "source": [
    "# option!! use huggungface embedding\n",
    "\n",
    "from langchain.embeddings import HuggingFaceEmbeddings\n",
    "\n",
    "#param encode_kwargs: Dict[str, Any] [Optional]\n",
    "#Keyword arguments to pass when calling the encode method of the Sentence Transformer model, such as prompt_name, prompt, batch_size, precision, normalize_embeddings, and more. See also the Sentence Transformer documentation: https://sbert.net/docs/package_reference/SentenceTransformer.html#sentence_transformers.SentenceTransformer.encode\n",
    "\n",
    "#param model_kwargs: Dict[str, Any] [Optional]¶\n",
    "#Keyword arguments to pass to the Sentence Transformer model, such as device, prompts, default_prompt_name, revision, trust_remote_code, or token. See also the Sentence Transformer documentation: https://sbert.net/docs/package_reference/SentenceTransformer.html#sentence_transformers.SentenceTransformer\n",
    "\n",
    "#param multi_process: bool = False\n",
    "#Run encode() on multiple GPUs.\n",
    "\n",
    "#param show_progress: bool = False\n",
    "#Whether to show a progress bar.\n",
    "\n",
    "model_name = \"sentence-transformers/all-MiniLM-L6-v2\"\n",
    "model_kwargs = {'device': 'cpu'}\n",
    "embedding = HuggingFaceEmbeddings(model_name=model_name,\n",
    "                                  model_kwargs=model_kwargs)"
   ]
  },
  {
   "cell_type": "code",
   "execution_count": 4,
   "id": "d956b50f",
   "metadata": {},
   "outputs": [
    {
     "ename": "NameError",
     "evalue": "name 'Chroma' is not defined",
     "output_type": "error",
     "traceback": [
      "\u001b[0;31m---------------------------------------------------------------------------\u001b[0m",
      "\u001b[0;31mNameError\u001b[0m                                 Traceback (most recent call last)",
      "Cell \u001b[0;32mIn[4], line 4\u001b[0m\n\u001b[1;32m      1\u001b[0m \u001b[38;5;66;03m# this will open a folder named aoai_chroma_db2 and create a sqlite file \u001b[39;00m\n\u001b[1;32m      3\u001b[0m persist_directory \u001b[38;5;241m=\u001b[39m \u001b[38;5;124m'\u001b[39m\u001b[38;5;124maoai_chroma_db2\u001b[39m\u001b[38;5;124m'\u001b[39m\n\u001b[0;32m----> 4\u001b[0m vectordb \u001b[38;5;241m=\u001b[39m \u001b[43mChroma\u001b[49m\u001b[38;5;241m.\u001b[39mfrom_documents(documents\u001b[38;5;241m=\u001b[39mdocuments, embedding\u001b[38;5;241m=\u001b[39membedding, persist_directory\u001b[38;5;241m=\u001b[39mpersist_directory)\n\u001b[1;32m      5\u001b[0m vectordb\u001b[38;5;241m.\u001b[39mpersist()\n\u001b[1;32m      8\u001b[0m retriever \u001b[38;5;241m=\u001b[39m vectordb\u001b[38;5;241m.\u001b[39mas_retriever()\n",
      "\u001b[0;31mNameError\u001b[0m: name 'Chroma' is not defined"
     ]
    }
   ],
   "source": [
    "# this will open a folder named aoai_chroma_db2 and create a sqlite file \n",
    "\n",
    "persist_directory = 'aoai_chroma_db2'\n",
    "vectordb = Chroma.from_documents(documents=documents, embedding=embedding, persist_directory=persist_directory)\n",
    "vectordb.persist()\n",
    "\n",
    "\n",
    "retriever = vectordb.as_retriever()\n",
    "\n",
    "retriever_tool = create_retriever_tool(\n",
    "    retriever,\n",
    "    \"neurons_lab_search\",\n",
    "    \"Search for information about Neurons Lab. For any questions about Neurons Lab, you must use this tool!\",\n",
    ")"
   ]
  },
  {
   "cell_type": "code",
   "execution_count": null,
   "id": "b37237d8",
   "metadata": {},
   "outputs": [],
   "source": [
    "from langchain.utilities.tavily_search import TavilySearchAPIWrapper\n",
    "from langchain.tools.tavily_search import TavilySearchResults\n",
    "from langchain.agents import initialize_agent, AgentType\n",
    "# from langchain.chat_models import ChatOpenAI\n",
    "\n",
    "from langchain.chat_models import AzureChatOpenAI\n",
    "\n",
    "# # Configure Azure OpenAI Service API\n",
    "# openai.api_type = \"azure\"\n",
    "# openai.api_version = \"2024-02-15-preview\"\n",
    "# openai.api_base = \"https://azure-openai-test-s100.openai.azure.com/\"\n",
    "# openai.api_key = \"6cb5bfda3d7241dfb35c518668a4c099\"\n",
    "\n",
    "client = AzureChatOpenAI(\n",
    "    deployment_name=\"gpt-35-turbo-16k\",\n",
    "    temperature=0,\n",
    "    api_key=\"6cb5bfda3d7241dfb35c518668a4c099\",\n",
    "    azure_endpoint=\"https://azure-openai-test-s100.openai.azure.com/\",\n",
    "    openai_api_version=\"2024-02-15-preview\")\n",
    "\n",
    "\n",
    "agent_chain = initialize_agent(\n",
    "    [retriever_tool], #, tavily_tool],\n",
    "    llm=client,\n",
    "    agent=AgentType.STRUCTURED_CHAT_ZERO_SHOT_REACT_DESCRIPTION,\n",
    "    verbose=True,\n",
    ")"
   ]
  },
  {
   "cell_type": "code",
   "execution_count": null,
   "id": "0a3f446e",
   "metadata": {},
   "outputs": [],
   "source": [
    "# run the agent\n",
    "agent_chain.run(\n",
    "    \"What are the Neurons Lab services\",\n",
    ")"
   ]
  },
  {
   "cell_type": "code",
   "execution_count": 1,
   "id": "94433d45",
   "metadata": {},
   "outputs": [
    {
     "name": "stderr",
     "output_type": "stream",
     "text": [
      "/Users/lizylin/Library/Python/3.9/lib/python/site-packages/urllib3/__init__.py:35: NotOpenSSLWarning: urllib3 v2 only supports OpenSSL 1.1.1+, currently the 'ssl' module is compiled with 'LibreSSL 2.8.3'. See: https://github.com/urllib3/urllib3/issues/3020\n",
      "  warnings.warn(\n"
     ]
    }
   ],
   "source": [
    "# add yourself tools (defined function)\n",
    "\n",
    "#use the @tooldecorator to make Langchain know about it\n",
    "#describe function comment between \"\"\" \"\"\"\n",
    "\n",
    "from langchain.tools import BaseTool, StructuredTool, tool\n",
    "\n",
    "@tool\n",
    "def calculate_length_tool(a: str) -> int:\n",
    "    \"\"\"The function calculates the length of the input string.\"\"\"\n",
    "    return len(a)\n"
   ]
  },
  {
   "cell_type": "code",
   "execution_count": 5,
   "id": "5665a171",
   "metadata": {},
   "outputs": [
    {
     "ename": "NameError",
     "evalue": "name 'retriever_tool' is not defined",
     "output_type": "error",
     "traceback": [
      "\u001b[0;31m---------------------------------------------------------------------------\u001b[0m",
      "\u001b[0;31mNameError\u001b[0m                                 Traceback (most recent call last)",
      "Cell \u001b[0;32mIn[5], line 4\u001b[0m\n\u001b[1;32m      1\u001b[0m \u001b[38;5;28;01mfrom\u001b[39;00m \u001b[38;5;21;01mlangchain\u001b[39;00m\u001b[38;5;21;01m.\u001b[39;00m\u001b[38;5;21;01magents\u001b[39;00m \u001b[38;5;28;01mimport\u001b[39;00m initialize_agent\n\u001b[1;32m      3\u001b[0m agent_chain2 \u001b[38;5;241m=\u001b[39m initialize_agent(\n\u001b[0;32m----> 4\u001b[0m     [\u001b[43mretriever_tool\u001b[49m, calculate_length_tool],\n\u001b[1;32m      5\u001b[0m     llm\u001b[38;5;241m=\u001b[39mclient,\n\u001b[1;32m      6\u001b[0m     agent\u001b[38;5;241m=\u001b[39mAgentType\u001b[38;5;241m.\u001b[39mSTRUCTURED_CHAT_ZERO_SHOT_REACT_DESCRIPTION,\n\u001b[1;32m      7\u001b[0m     verbose\u001b[38;5;241m=\u001b[39m\u001b[38;5;28;01mTrue\u001b[39;00m,\n\u001b[1;32m      8\u001b[0m )\n",
      "\u001b[0;31mNameError\u001b[0m: name 'retriever_tool' is not defined"
     ]
    }
   ],
   "source": [
    "from langchain.agents import initialize_agent\n",
    "\n",
    "agent_chain2 = initialize_agent(\n",
    "    [retriever_tool, calculate_length_tool],\n",
    "    llm=client,\n",
    "    agent=AgentType.STRUCTURED_CHAT_ZERO_SHOT_REACT_DESCRIPTION,\n",
    "    verbose=True,\n",
    ")"
   ]
  }
 ],
 "metadata": {
  "kernelspec": {
   "display_name": "Python 3 (ipykernel)",
   "language": "python",
   "name": "python3"
  },
  "language_info": {
   "codemirror_mode": {
    "name": "ipython",
    "version": 3
   },
   "file_extension": ".py",
   "mimetype": "text/x-python",
   "name": "python",
   "nbconvert_exporter": "python",
   "pygments_lexer": "ipython3",
   "version": "3.9.6"
  }
 },
 "nbformat": 4,
 "nbformat_minor": 5
}
