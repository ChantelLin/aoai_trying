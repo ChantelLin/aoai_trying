{
 "cells": [
  {
   "cell_type": "code",
   "execution_count": 8,
   "id": "034e6052",
   "metadata": {},
   "outputs": [],
   "source": [
    "#save config in yml file\n",
    "import os\n",
    "import yaml\n",
    "\n",
    "config = yaml.safe_load(open(\"aoai_config.yml\"))\n",
    "\n",
    "os.environ[\"OPENAI_API_KEY\"] = config[\"OPENAI_API_KEY\"]"
   ]
  },
  {
   "cell_type": "code",
   "execution_count": 6,
   "id": "68605b76",
   "metadata": {},
   "outputs": [],
   "source": [
    "import openai\n",
    "# from langchain_openai import AzureOpenAI\n",
    "from langchain.chat_models import AzureChatOpenAI\n",
    "\n",
    "# Configure Azure OpenAI Service API\n",
    "openai.api_type = config[\"OPENAI_API_KEY\"]\n",
    "openai.api_version = config[\"OPENAI_API_type\"]\n",
    "openai.api_base = config[\"OPENAI_API_ENDPOINT\"]\n",
    "openai.api_key = config[\"OPENAI_API_KEY\"]\n",
    "\n",
    "client = AzureChatOpenAI(\n",
    "    deployment_name=\"gpt-35-turbo-16k\",\n",
    "    temperature=0,\n",
    "    api_key=\"6cb5bfda3d7241dfb35c518668a4c099\",\n",
    "    azure_endpoint=\"https://azure-openai-test-s100.openai.azure.com/\",\n",
    "    openai_api_version=\"2024-02-15-preview\")"
   ]
  },
  {
   "cell_type": "code",
   "execution_count": 5,
   "id": "730da7cf",
   "metadata": {},
   "outputs": [
    {
     "data": {
      "text/plain": [
       "AIMessage(content='LADAC stands for Licensed Alcohol and Drug Abuse Counselor. It is a professional certification or license that is required in some states in the United States for individuals who provide counseling services to individuals struggling with alcohol and drug abuse issues. LADACs are trained to assess, diagnose, and treat substance abuse disorders, and they may work in various settings such as rehabilitation centers, hospitals, clinics, or private practices. The specific requirements and regulations for obtaining and maintaining a LADAC certification may vary by state.', response_metadata={'token_usage': {'completion_tokens': 102, 'prompt_tokens': 13, 'total_tokens': 115}, 'model_name': 'gpt-35-turbo-16k', 'system_fingerprint': None, 'finish_reason': 'stop', 'logprobs': None}, id='run-fd9ce8d8-ee65-4b71-aa04-da28752c9740-0')"
      ]
     },
     "execution_count": 5,
     "metadata": {},
     "output_type": "execute_result"
    }
   ],
   "source": [
    "from langchain_core.messages import HumanMessage\n",
    "\n",
    "message = HumanMessage(\n",
    "    content=\"what is LADAC?\"\n",
    ")\n",
    "client([message])"
   ]
  }
 ],
 "metadata": {
  "kernelspec": {
   "display_name": "Python 3 (ipykernel)",
   "language": "python",
   "name": "python3"
  },
  "language_info": {
   "codemirror_mode": {
    "name": "ipython",
    "version": 3
   },
   "file_extension": ".py",
   "mimetype": "text/x-python",
   "name": "python",
   "nbconvert_exporter": "python",
   "pygments_lexer": "ipython3",
   "version": "3.9.6"
  }
 },
 "nbformat": 4,
 "nbformat_minor": 5
}
