{
 "cells": [
  {
   "cell_type": "code",
   "execution_count": 1,
   "id": "034e6052",
   "metadata": {},
   "outputs": [],
   "source": [
    "\n",
    "%run env_config_setting.ipynb\n",
    "\n",
    "deploy_name = \"gpt-35-turbo-16k\"\n",
    "\n",
    "api_key = openai.api_key\n",
    "api_base = openai.api_base\n",
    "api_version = openai.api_version"
   ]
  },
  {
   "cell_type": "code",
   "execution_count": 2,
   "id": "68605b76",
   "metadata": {},
   "outputs": [
    {
     "name": "stderr",
     "output_type": "stream",
     "text": [
      "/Users/lizylin/Library/Python/3.9/lib/python/site-packages/urllib3/__init__.py:35: NotOpenSSLWarning: urllib3 v2 only supports OpenSSL 1.1.1+, currently the 'ssl' module is compiled with 'LibreSSL 2.8.3'. See: https://github.com/urllib3/urllib3/issues/3020\n",
      "  warnings.warn(\n"
     ]
    },
    {
     "name": "stdout",
     "output_type": "stream",
     "text": [
      "6cb5bfda3d7241dfb35c518668a4c099 https://azure-openai-test-s100.openai.azure.com/ 2024-02-15-preview\n"
     ]
    },
    {
     "name": "stderr",
     "output_type": "stream",
     "text": [
      "/Users/lizylin/Library/Python/3.9/lib/python/site-packages/langchain_core/_api/deprecation.py:117: LangChainDeprecationWarning: The class `langchain_community.chat_models.azure_openai.AzureChatOpenAI` was deprecated in langchain-community 0.0.10 and will be removed in 0.2.0. An updated version of the class exists in the langchain-openai package and should be used instead. To use it run `pip install -U langchain-openai` and import as `from langchain_openai import AzureChatOpenAI`.\n",
      "  warn_deprecated(\n"
     ]
    }
   ],
   "source": [
    "from langchain.chat_models import AzureChatOpenAI\n",
    "\n",
    "print(api_key, api_base, api_version)\n",
    "\n",
    "client = AzureChatOpenAI(\n",
    "    deployment_name=deploy_name, #\"gpt-35-turbo-16k\",\n",
    "    temperature=0,\n",
    "    api_key=api_key, #\"6cb5bfda3d7241dfb35c518668a4c099\", # openai.\n",
    "    azure_endpoint=api_base, #\"https://azure-openai-test-s100.openai.azure.com/\", #openai.\n",
    "    openai_api_version=api_version) #)\"2024-02-15-preview\") #openai."
   ]
  },
  {
   "cell_type": "code",
   "execution_count": 3,
   "id": "730da7cf",
   "metadata": {},
   "outputs": [
    {
     "name": "stderr",
     "output_type": "stream",
     "text": [
      "/Users/lizylin/Library/Python/3.9/lib/python/site-packages/langchain_core/_api/deprecation.py:117: LangChainDeprecationWarning: The function `__call__` was deprecated in LangChain 0.1.7 and will be removed in 0.2.0. Use invoke instead.\n",
      "  warn_deprecated(\n"
     ]
    },
    {
     "data": {
      "text/plain": [
       "AIMessage(content='LADAC stands for Licensed Alcohol and Drug Abuse Counselor. It is a professional certification or license that is required in some states in the United States for individuals who provide counseling services to individuals struggling with alcohol and drug abuse issues. LADACs are trained to assess, diagnose, and treat substance abuse disorders, and they may work in various settings such as rehabilitation centers, hospitals, clinics, or private practices. The specific requirements and regulations for obtaining and maintaining a LADAC certification may vary by state.', response_metadata={'token_usage': {'completion_tokens': 102, 'prompt_tokens': 13, 'total_tokens': 115}, 'model_name': 'gpt-35-turbo-16k', 'system_fingerprint': None, 'finish_reason': 'stop', 'logprobs': None}, id='run-38ee4905-5393-4e01-903f-f6163b52ee2f-0')"
      ]
     },
     "execution_count": 3,
     "metadata": {},
     "output_type": "execute_result"
    }
   ],
   "source": [
    "from langchain_core.messages import HumanMessage\n",
    "\n",
    "message = HumanMessage(\n",
    "    content=\"what is LADAC?\"\n",
    ")\n",
    "client([message])"
   ]
  }
 ],
 "metadata": {
  "kernelspec": {
   "display_name": "Python 3 (ipykernel)",
   "language": "python",
   "name": "python3"
  },
  "language_info": {
   "codemirror_mode": {
    "name": "ipython",
    "version": 3
   },
   "file_extension": ".py",
   "mimetype": "text/x-python",
   "name": "python",
   "nbconvert_exporter": "python",
   "pygments_lexer": "ipython3",
   "version": "3.9.6"
  }
 },
 "nbformat": 4,
 "nbformat_minor": 5
}
